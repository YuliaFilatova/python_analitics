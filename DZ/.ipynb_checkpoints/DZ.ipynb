{
 "cells": [
  {
   "cell_type": "markdown",
   "id": "c6657227",
   "metadata": {},
   "source": [
    "## Задача 1"
   ]
  },
  {
   "cell_type": "markdown",
   "id": "92e25f50",
   "metadata": {},
   "source": [
    "#### На складе лежат разные фрукты в разном количестве.\n",
    "#### Нужно написать функцию, которая на вход принимает любое количество названий фруктов и их количество, а возвращает общее количество фруктов на складе"
   ]
  },
  {
   "cell_type": "code",
   "execution_count": 9,
   "id": "60a110f1",
   "metadata": {},
   "outputs": [
    {
     "name": "stdout",
     "output_type": "stream",
     "text": [
      "На складе всего фруктов: 53\n"
     ]
    }
   ],
   "source": [
    "def count_fruits(**kwargs):\n",
    "        return(sum(kwargs.values()))\n",
    "\n",
    "print(\"На складе всего фруктов:\", count_fruits(apples = 10, bananas = 25, pears = 18))"
   ]
  },
  {
   "cell_type": "markdown",
   "id": "0920838e",
   "metadata": {},
   "source": [
    "## Задача 2"
   ]
  },
  {
   "cell_type": "markdown",
   "id": "573b5fcf",
   "metadata": {},
   "source": [
    "#### Дан список с затратами на рекламу. Но в данных есть ошибки, некоторые затраты имеют отрицательную величину. Удалите такие значения из списка и посчитайте суммарные затраты\n",
    "[100, 125, -90, 345, 655, -1, 0, 200]\n",
    "#### Используйте list comprehensions"
   ]
  },
  {
   "cell_type": "code",
   "execution_count": 10,
   "id": "8b469c72",
   "metadata": {},
   "outputs": [
    {
     "name": "stdout",
     "output_type": "stream",
     "text": [
      "Новый список: [100, 125, 345, 655, 0, 200]\n",
      "Суммарные затраты: 1425\n"
     ]
    }
   ],
   "source": [
    "old_list = [100, 125, -90, 345, 655, -1, 0, 200]\n",
    "new_list = [c for c in old_list if c >= 0]\n",
    "print(\"Новый список:\", new_list)\n",
    "sum_num_list = sum(new_list)\n",
    "print(\"Суммарные затраты:\", sum_num_list)"
   ]
  },
  {
   "cell_type": "markdown",
   "id": "d2f343c7",
   "metadata": {},
   "source": [
    "## Задача 3"
   ]
  },
  {
   "cell_type": "markdown",
   "id": "12ed2633",
   "metadata": {},
   "source": [
    "#### Даны два списка.\n",
    "Дата покупки\n",
    "['2021-09-14', '2021-12-15', '2021-09-08', '2021-12-05', '2021-10-09', '2021-09-30', '2021-12-22', '2021-11-29', '2021-12-24', '2021-11-26', '2021-10-27', '2021-12-18', '2021-11-09', '2021-11-23', '2021-09-27', '2021-10-02', '2021-12-27', '2021-09-20', '2021-12-13', '2021-11-01', '2021-11-09', '2021-12-06', '2021-12-08', '2021-10-09', '2021-10-31', '2021-09-30', '2021-11-09', '2021-12-13', '2021-10-26', '2021-12-09']\n",
    "Суммы покупок по датам\n",
    "[1270, 8413, 9028, 3703, 5739, 4095, 295, 4944, 5723, 3701, 4471, 651, 7037, 4274, 6275, 4988, 6930, 2971, 6592, 2004, 2822, 519, 3406, 2732, 5015, 2008, 316, 6333, 5700, 2887]"
   ]
  },
  {
   "cell_type": "markdown",
   "id": "984380b5",
   "metadata": {},
   "source": [
    "### Задание 3.1"
   ]
  },
  {
   "cell_type": "markdown",
   "id": "391c0d0c",
   "metadata": {},
   "source": [
    "#### Найдите, какая выручка у компании в ноябре\n",
    "#### Используйте list comprehensions"
   ]
  },
  {
   "cell_type": "code",
   "execution_count": 11,
   "id": "8e84d6a2",
   "metadata": {},
   "outputs": [
    {
     "name": "stdout",
     "output_type": "stream",
     "text": [
      "Выручка компании в ноябре: 25098\n"
     ]
    }
   ],
   "source": [
    "data_pay = ['2021-09-14', '2021-12-15', '2021-09-08', '2021-12-05', '2021-10-09', '2021-09-30', '2021-12-22', '2021-11-29', '2021-12-24', '2021-11-26', '2021-10-27', '2021-12-18', '2021-11-09', '2021-11-23', '2021-09-27', '2021-10-02', '2021-12-27', '2021-09-20', '2021-12-13', '2021-11-01', '2021-11-09', '2021-12-06', '2021-12-08', '2021-10-09', '2021-10-31', '2021-09-30', '2021-11-09', '2021-12-13', '2021-10-26', '2021-12-09'] \n",
    "sum_pay = [1270, 8413, 9028, 3703, 5739, 4095, 295, 4944, 5723, 3701, 4471, 651, 7037, 4274, 6275, 4988, 6930, 2971, 6592, 2004, 2822, 519, 3406, 2732, 5015, 2008, 316, 6333, 5700, 2887]\n",
    "result = [sum_pay[i] for i in range(len(data_pay)) if data_pay[i].split(\"-\")[1] == \"11\"]\n",
    "print(\"Выручка компании в ноябре:\", sum(result))"
   ]
  },
  {
   "cell_type": "markdown",
   "id": "77146aa2",
   "metadata": {},
   "source": [
    "### Задание 3.2"
   ]
  },
  {
   "cell_type": "markdown",
   "id": "81d4bcd2",
   "metadata": {},
   "source": [
    "#### Найдите выручку компании в зависимости от месяца\n",
    "#### Для этого напишите функцию, которая на вход принимает список с датами и список с выручкой, а на выходе словарь, где ключи - это месяцы, а значения - это выручка.\n",
    "#### Используйте аннотирование типов."
   ]
  },
  {
   "cell_type": "code",
   "execution_count": 12,
   "id": "2bd0e2cd",
   "metadata": {},
   "outputs": [
    {
     "name": "stdout",
     "output_type": "stream",
     "text": [
      "Выручка компании в зависимости от месяца: {9: 25647, 12: 45452, 10: 28645, 11: 25098}\n"
     ]
    }
   ],
   "source": [
    "def revenue_month(date_: list, revenue: list) -> dict:\n",
    "    dict_ = {}\n",
    "    for i in range(len(date_)):\n",
    "        dict_[int(date_[i].split('-')[1])] = dict_.get(int(date_[i].split('-')[1]),0) + revenue[i]\n",
    "    return dict_\n",
    "print(\"Выручка компании в зависимости от месяца:\", revenue_month(data_pay, sum_pay))"
   ]
  }
 ],
 "metadata": {
  "kernelspec": {
   "display_name": "Python 3.8.7 64-bit",
   "language": "python",
   "name": "python3"
  },
  "language_info": {
   "codemirror_mode": {
    "name": "ipython",
    "version": 3
   },
   "file_extension": ".py",
   "mimetype": "text/x-python",
   "name": "python",
   "nbconvert_exporter": "python",
   "pygments_lexer": "ipython3",
   "version": "3.8.7"
  },
  "vscode": {
   "interpreter": {
    "hash": "0fcca3ee29b81c9dc01d55d87cc66b0d2c9bad3535aacfe8064192ffb3429dc0"
   }
  }
 },
 "nbformat": 4,
 "nbformat_minor": 5
}
